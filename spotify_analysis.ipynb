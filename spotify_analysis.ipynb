{
  "nbformat": 4,
  "nbformat_minor": 0,
  "metadata": {
    "colab": {
      "provenance": [],
      "toc_visible": true,
      "authorship_tag": "ABX9TyNlVflayuI2htUYraix+VT/"
    },
    "kernelspec": {
      "name": "python3",
      "display_name": "Python 3"
    },
    "language_info": {
      "name": "python"
    }
  },
  "cells": [
    {
      "cell_type": "markdown",
      "source": [
        "# Getting Spotify playlist data\n",
        "\n",
        "This Notebook has the intention to do some basic analysis from my favorite artists from spotify for my application website"
      ],
      "metadata": {
        "id": "z1xFjeTWjTef"
      }
    },
    {
      "cell_type": "markdown",
      "source": [
        "## Initialization"
      ],
      "metadata": {
        "id": "JajxTcGMYtJt"
      }
    },
    {
      "cell_type": "code",
      "source": [
        "import json\n",
        "import os\n",
        "import re\n",
        "import time\n",
        "from collections import Counter, defaultdict\n",
        "\n",
        "import requests\n",
        "import numpy as np\n",
        "import pandas as pd\n",
        "import matplotlib.pyplot as plt\n",
        "import matplotlib.dates as mdates\n",
        "from requests.auth import HTTPBasicAuth"
      ],
      "metadata": {
        "id": "YtfvHanAPI0k"
      },
      "execution_count": 21,
      "outputs": []
    },
    {
      "cell_type": "code",
      "source": [
        "os.makedirs(\"src/assets/analysis/\", exist_ok=True)\n",
        "\n",
        "# os.environ['PLAYLIST_ID'] = 'YOUR_SPOTIFY_PLAYLIST_ID';\n",
        "# os.environ['CLIENT_ID'] = 'YOUR_SPOTIFY_API_CLIENT_ID';\n",
        "# os.environ['CLIENT_SECRET'] = 'YOUR_SPOTIFY_API_CLIENT_SECRET';"
      ],
      "metadata": {
        "id": "mHCsRDq8sdgz"
      },
      "execution_count": 22,
      "outputs": []
    },
    {
      "cell_type": "code",
      "source": [
        "os.environ['PLAYLIST_ID'] = '0L58LDDYpBh7hncDnluUPl';\n",
        "os.environ['CLIENT_ID'] = '6594e594a304499cbadcaaf40bc64370';\n",
        "os.environ['CLIENT_SECRET'] = '1cf6175b63204b0c8b4fe02d30b49988';"
      ],
      "metadata": {
        "id": "NEGSD-yqeukR"
      },
      "execution_count": 23,
      "outputs": []
    },
    {
      "cell_type": "code",
      "source": [
        "# Spotify API parameters\n",
        "SPOTIFY_AUTH_URL     = 'https://accounts.spotify.com/api/token'\n",
        "SPOTIFY_API_URL = 'https://api.spotify.com/v1'\n",
        "\n",
        "SPOTIFY_PLAYLIST_ID = os.getenv('PLAYLIST_ID');"
      ],
      "metadata": {
        "id": "_uVZ5tK7_oOt"
      },
      "execution_count": 24,
      "outputs": []
    },
    {
      "cell_type": "markdown",
      "source": [
        "## API Auth\n",
        "Define the Spotify development project secrets as credentials to request from endpoints. For basic usage, a simple auth method is sufficient. However, to add or remove songs from a playlist, for example, an oauth via link is required - which is not needed in this application. More information can be found in [Spotify's API docs](https://developer.spotify.com/documentation/web-api)."
      ],
      "metadata": {
        "id": "spLv_s0fjorj"
      }
    },
    {
      "cell_type": "code",
      "execution_count": 25,
      "metadata": {
        "id": "Z13taO9NQSjF"
      },
      "outputs": [],
      "source": [
        "client_id = os.getenv('CLIENT_ID');\n",
        "client_secret = os.getenv('CLIENT_SECRET');"
      ]
    },
    {
      "cell_type": "code",
      "source": [
        "# Make a POST request to the Spotify Accounts service\n",
        "response = requests.post(SPOTIFY_AUTH_URL, {\n",
        "    'grant_type': 'client_credentials'\n",
        "}, auth=HTTPBasicAuth(client_id, client_secret))\n",
        "\n",
        "# Convert the response to JSON\n",
        "data = response.json()\n",
        "\n",
        "# Your new access token\n",
        "access_token = data['access_token']\n",
        "\n",
        "# Update your headers with the new access token\n",
        "headers = {\n",
        "    'Authorization': f'Bearer {access_token}'\n",
        "}\n"
      ],
      "metadata": {
        "id": "YIjjTgt7vNW1"
      },
      "execution_count": 26,
      "outputs": []
    },
    {
      "cell_type": "markdown",
      "source": [
        "## Playlist data\n",
        "\n",
        "First, all playlist tracks are loaded in batches and formatted by album (as album covers are displayed on the website). The track IDs are stored separately for the latter analysis."
      ],
      "metadata": {
        "id": "O1hSM4O7jiAv"
      }
    },
    {
      "cell_type": "code",
      "source": [
        "def fetchPlaylistTracks(url, headers):\n",
        "    formatted_data = []\n",
        "    tracks = []\n",
        "\n",
        "    while url:\n",
        "        response = requests.get(url, headers=headers)\n",
        "        data = response.json()\n",
        "\n",
        "        for item in data['items']:\n",
        "            track = item['track']\n",
        "            album = track['album']\n",
        "\n",
        "            tracks.append(track)\n",
        "            # Check if the album already exists in formatted_data\n",
        "            existing_album = next((item for item in formatted_data if item['id'] == album['id']), None)\n",
        "\n",
        "            if existing_album:\n",
        "                # If the album exists, add the track to the album's tracks\n",
        "                if track['id'] not in existing_album['tracks']:\n",
        "                    existing_album['tracks'].append(track['id'])\n",
        "            else:\n",
        "                # If the album does not exist, create a new entry for the album\n",
        "                formatted_album = {\n",
        "                    'cover': album['images'][0]['url'].removeprefix('https://i.scdn.co/image/ab67616d0000b273'),\n",
        "                    'id': album['id'],\n",
        "                    'name': album['name'],\n",
        "                    'artists': [{'name': artist['name'], 'id': artist['id']} for artist in album['artists']],\n",
        "                    'release': album['release_date'],\n",
        "                    'tracks': [track['id']]\n",
        "                }\n",
        "\n",
        "                # Add the constructed album/track data to your list\n",
        "                formatted_data.append(formatted_album)\n",
        "\n",
        "        url = data.get('next')  # URL for the next set of items, if any\n",
        "\n",
        "    return formatted_data, tracks\n"
      ],
      "metadata": {
        "id": "NcvwQoNFCQJS"
      },
      "execution_count": 32,
      "outputs": []
    },
    {
      "cell_type": "code",
      "source": [
        "albums, tracks = fetchPlaylistTracks(f'{SPOTIFY_API_URL}/playlists/{SPOTIFY_PLAYLIST_ID}/tracks', headers);\n",
        "\n",
        "# stats\n",
        "print(\"Albums:\" + str(len(albums)));\n",
        "print(\"Songs:\" + str(len(tracks)))"
      ],
      "metadata": {
        "colab": {
          "base_uri": "https://localhost:8080/"
        },
        "id": "uLaP_N3ED1Jk",
        "outputId": "ee7a8c1e-1252-429c-cc5d-0715551b2fca"
      },
      "execution_count": 33,
      "outputs": [
        {
          "output_type": "stream",
          "name": "stdout",
          "text": [
            "Albums:331\n",
            "Songs:999\n"
          ]
        }
      ]
    },
    {
      "cell_type": "code",
      "source": [
        "with open(\"src/assets/analysis/export-spotify-covers.json\", \"w\") as outfile:\n",
        "    json.dump(albums, outfile)"
      ],
      "metadata": {
        "id": "ygDMDCZFB2mK"
      },
      "execution_count": 34,
      "outputs": []
    },
    {
      "cell_type": "markdown",
      "source": [
        "## Artist occurence & genres\n",
        "\n",
        "The artist profile data is loaded to get the genre information (what genre an artist belongs to), but also to get more information about the artist, like the name and also the link to their profile picture."
      ],
      "metadata": {
        "id": "jBIxfH03a-Ns"
      }
    },
    {
      "cell_type": "code",
      "source": [
        "# Function to process albums and update stats for favorite artists\n",
        "def getArtistStats(albums, stats):\n",
        "    for album in albums:\n",
        "        album_artist_ids = [artist['id'] for artist in album['artists']]\n",
        "\n",
        "        for artist_id in album_artist_ids:\n",
        "\n",
        "            if artist_id not in stats:\n",
        "                stats[artist_id] = {\n",
        "                    'img': '',\n",
        "                    'tracks': len(album['tracks']),\n",
        "                    'albums': 1,\n",
        "                    'name': ''\n",
        "                }\n",
        "            else:\n",
        "                stats[artist_id]['tracks'] += len(album['tracks'])\n",
        "                stats[artist_id]['albums'] += 1\n",
        "\n",
        "# Function to fetch artist data\n",
        "def fetch_artist_data(artist_id):\n",
        "    response = requests.get(f'https://api.spotify.com/v1/artists/{artist_id}', headers=headers)\n",
        "    if response.status_code == 200:\n",
        "        return response.json()\n",
        "    else:\n",
        "        return None"
      ],
      "metadata": {
        "id": "SliyTnV9ujS_"
      },
      "execution_count": 35,
      "outputs": []
    },
    {
      "cell_type": "code",
      "source": [
        "artists_stats = dict();\n",
        "\n",
        "# Process albums data structure here\n",
        "getArtistStats(albums, artists_stats)\n",
        "\n",
        "genre_track_count = Counter()  # Using a Counter to easily sum values for the same key\n",
        "\n",
        "\n",
        "# Assuming artistStats is defined somewhere with artist IDs and their track counts\n",
        "for artist_id in artists_stats:\n",
        "    artist_data = fetch_artist_data(artist_id)  # Ensure headers is defined with your auth token\n",
        "\n",
        "    if not artist_data:\n",
        "        continue\n",
        "\n",
        "    genres = artist_data.get('genres', [])\n",
        "    artistTracksCount = artists_stats[artist_id]['tracks']\n",
        "\n",
        "    # Incrementing track count for each genre found for the artist\n",
        "    for genre in genres:\n",
        "        genre_track_count[genre] += artistTracksCount\n",
        "\n",
        "    # Optionally update image and name if present\n",
        "    if 'images' in artist_data and artist_data['images']:\n",
        "        artists_stats[artist_id]['img'] = artist_data['images'][0]['url']\n",
        "        artists_stats[artist_id]['name'] = artist_data.get(\"name\", '')"
      ],
      "metadata": {
        "id": "FfBmY2t1qcaU"
      },
      "execution_count": 36,
      "outputs": []
    },
    {
      "cell_type": "code",
      "source": [
        "# add percentage\n",
        "artists_stats = {artist_id: {**details, 'occurrence': format(((details['tracks'] / len(tracks)) * 100), \".2f\")} for artist_id, details in artists_stats.items()}\n",
        "favorite_artists = sorted(artists_stats.items(), key=lambda x: x[1]['occurrence'], reverse=True)[:5];\n",
        "\n",
        "print(favorite_artists)\n",
        "print(dict(genre_track_count.most_common(10)))"
      ],
      "metadata": {
        "colab": {
          "base_uri": "https://localhost:8080/"
        },
        "id": "MzIWm-1GwK_Y",
        "outputId": "5f35afd7-c51c-4bb4-de33-8444459aaf81"
      },
      "execution_count": 39,
      "outputs": [
        {
          "output_type": "stream",
          "name": "stdout",
          "text": [
            "[('0k70gnDBLPirCltbTzoxuM', {'img': 'https://i.scdn.co/image/ab6761610000e5ebad25a4c036cdc21fe95986ad', 'tracks': 35, 'albums': 7, 'name': 'Faber', 'occurrence': '3.50'}), ('23xqmJEN3oVxwzqtNIyR5m', {'img': 'https://i.scdn.co/image/ab6761610000e5ebbcf79c131f4ddb3635dd60bb', 'tracks': 28, 'albums': 6, 'name': 'AnnenMayKantereit', 'occurrence': '2.80'}), ('5fNCrHCBzuRdM8AbVajVh0', {'img': 'https://i.scdn.co/image/ab6761610000e5eb45a6963fbc20ede928638715', 'tracks': 25, 'albums': 7, 'name': 'Lance Butters', 'occurrence': '2.50'}), ('2XbRunIT35jrB8HRsISPgT', {'img': 'https://i.scdn.co/image/ab6761610000e5eb65e8d02a37ce4b2371caf085', 'tracks': 25, 'albums': 6, 'name': 'Tristan Brusch', 'occurrence': '2.50'}), ('0r0R5nIjDY04TfxRM10Bcb', {'img': 'https://i.scdn.co/image/ab6761610000e5eb489fdf3f409eed0c27751c64', 'tracks': 25, 'albums': 5, 'name': 'Alligatoah', 'occurrence': '2.50'})]\n",
            "{'german pop': 278, 'german indie': 210, 'german hip hop': 158, 'german alternative rap': 129, 'pop': 91, 'antideutsche': 68, 'swiss indie': 60, 'rap': 56, 'hip hop': 55, 'german singer-songwriter': 55}\n"
          ]
        }
      ]
    },
    {
      "cell_type": "markdown",
      "source": [
        "### Generalised genres\n",
        "\n",
        "Since many genres are very specific and cannot be visualised in a meaningful way, they have to be grouped, e.g. German rap, Swiss rap are all in the category rap. Some genres like \" antidetusch \" cannot be grouped and are put into the category \"other\". The counts of this category are stored separately to be able to list the \"other\" genres."
      ],
      "metadata": {
        "id": "tmOgXEB3bjk1"
      }
    },
    {
      "cell_type": "code",
      "source": [
        "# Updated list of general genres with some additional groupings\n",
        "general_genres = [\n",
        "    'pop', 'indie', 'hip hop', 'rock', 'edm', 'jazz', 'reggae', 'singer-songwriter',\n",
        "    'ambient', 'experimental', 'electronic', 'folk', 'alternative', 'punk', 'ska', 'metal',\n",
        "    'classical', 'country', 'soul', 'blues', 'r&b', 'comedy', 'grunge', 'new wave'\n",
        "]\n",
        "\n",
        "# Initialize Counters for the general genres and unmatched genres\n",
        "general_genre_counts = Counter()\n",
        "unmatched_genre_counts = Counter()  # New counter for unmatched genres\n",
        "\n",
        "# Broaden matching rules and handle special cases\n",
        "def match_general_genre(specific_genre, general_genres):\n",
        "    # Normalize and consolidate similar genres\n",
        "    specific_genre = specific_genre.lower()\n",
        "    if 'electro' in specific_genre or 'dance' in specific_genre:\n",
        "        return 'electronic'\n",
        "    if 'hip hop' in specific_genre or 'rap' in specific_genre:\n",
        "        return 'hip hop/rap'\n",
        "    if 'motown' in specific_genre or 'soul' in specific_genre or 'r&b' in specific_genre:\n",
        "        return 'soul/r&b'\n",
        "    if 'neue deutsche welle' in specific_genre or 'german' in specific_genre:\n",
        "        return 'alternative'\n",
        "    if 'grunge' in specific_genre or 'post-grunge' in specific_genre:\n",
        "        return 'grunge'\n",
        "    if 'new wave' in specific_genre or 'new romantic' in specific_genre:\n",
        "        return 'new wave'\n",
        "    if 'comedy' in specific_genre or 'parody' in specific_genre or 'comic' in specific_genre:\n",
        "        return 'comedy'\n",
        "\n",
        "    # Check for matches in general genres\n",
        "    for general_genre in general_genres:\n",
        "        if general_genre in specific_genre:\n",
        "            return general_genre\n",
        "\n",
        "    # Track unmatched genres\n",
        "    unmatched_genre_counts[specific_genre] += 1\n",
        "    return 'other'\n",
        "\n",
        "# Categorize each specific genre\n",
        "for specific_genre, count in genre_track_count.items():\n",
        "    general_genre = match_general_genre(specific_genre, general_genres)\n",
        "    general_genre_counts[general_genre] += count\n",
        "    if general_genre == 'other':\n",
        "        unmatched_genre_counts[specific_genre] += count\n",
        "\n",
        "general_genre_counts = sorted(general_genre_counts.items(), key=lambda x: x[1], reverse=True)"
      ],
      "metadata": {
        "id": "2n-1p7w2Pq5G"
      },
      "execution_count": null,
      "outputs": []
    },
    {
      "cell_type": "code",
      "source": [
        "# Print the updated general genre counts\n",
        "print(dict(general_genre_counts))\n",
        "\n",
        "# Print the top 5 \"other\" genres with counts\n",
        "print(dict(unmatched_genre_counts.most_common(5)))\n"
      ],
      "metadata": {
        "id": "hIp8M9VaTtp7"
      },
      "execution_count": null,
      "outputs": []
    },
    {
      "cell_type": "markdown",
      "source": [
        "## Track's audio features\n",
        "\n",
        "The Spotify API can be used to retrieve a track's features. This data includes danceability, valence, speechiness and so on. This information for each song is retrieved in batches and then averaged to give a score for the whole dataset."
      ],
      "metadata": {
        "id": "WqFr42SdM-pA"
      }
    },
    {
      "cell_type": "code",
      "source": [
        "\n",
        "# Deduplicate the track IDs in case the same track appears more than once\n",
        "unique_track_ids = set(tracks)\n",
        "\n",
        "# Dictionary to hold audio features for each track, along with popularity\n",
        "audio_features_data = {}\n",
        "\n",
        "# Spotify limits the number of track IDs you can request at once to 100\n",
        "batch_size = 100\n",
        "for i in range(0, len(unique_track_ids), batch_size):\n",
        "    batch = list(unique_track_ids)[i:i+batch_size]\n",
        "    response = requests.get((f'{SPOTIFY_API_URL}/audio-features/'), headers=headers, params={'ids': ','.join(batch)})\n",
        "    data = response.json()\n",
        "\n",
        "    # For each track, fetch its audio features\n",
        "    for feature in data['audio_features']:\n",
        "        if feature:  # Check if the feature is not None\n",
        "            track_id = feature['id']\n",
        "\n",
        "            # Remove 'track_href' and 'analysis_url' from the feature data\n",
        "            feature.pop('track_href', None)  # Use pop to remove 'track_href', if it exists\n",
        "            feature.pop('analysis_url', None)  # Use pop to remove 'analysis_url', if it exists\n",
        "            feature.pop('uri', None)  # Use pop to remove 'analysis_url', if it exists\n",
        "\n",
        "            audio_features_data[track_id] = feature\n",
        "\n",
        "# Now, 'audio_features_data' contains both the audio features and popularity for each track\n",
        "print(audio_features_data)\n",
        "\n",
        "# Initialize a dictionary to hold the sum of each feature\n",
        "features_sum = {key: 0 for key in audio_features_data[list(audio_features_data.keys())[0]].keys() if key != 'type' and key != 'id' and key != 'uri' and key != 'track_href' and key != 'analysis_url' and key != 'duration_ms' and key != 'time_signature'}\n",
        "\n",
        "# Sum up all the features\n",
        "for features in audio_features_data.values():\n",
        "    for key, value in features.items():\n",
        "        if key in features_sum:\n",
        "            features_sum[key] += value\n",
        "\n",
        "# Calculate the average\n",
        "features_avg = {key: (value / len(audio_features_data)) for key, value in features_sum.items()}"
      ],
      "metadata": {
        "id": "GRyi0ZSdJmaS"
      },
      "execution_count": null,
      "outputs": []
    },
    {
      "cell_type": "code",
      "source": [
        "# speechiness: 14% --> more music less text\n",
        "# 'valence': 46.94867990654203 % --> tracks with low valence sound more negative (e.g. sad, depressed, angry)\n",
        "# 'danceability': 62.282593457943904, 'energy': 60.837155373831706\n",
        "print(features_avg)"
      ],
      "metadata": {
        "id": "Iap75TfBXU24"
      },
      "execution_count": null,
      "outputs": []
    },
    {
      "cell_type": "markdown",
      "source": [
        "## Playlist duration"
      ],
      "metadata": {
        "id": "jp6fNWptfcz4"
      }
    },
    {
      "cell_type": "code",
      "source": [
        "\n",
        "# Function to fetch data for multiple tracks at once\n",
        "def fetch_tracks_data(track_ids):\n",
        "    track_ids_str = ','.join(track_ids)\n",
        "    response = requests.get(f'https://api.spotify.com/v1/tracks?ids={track_ids_str}', headers=headers)\n",
        "    if response.status_code == 200:\n",
        "        return response.json()['tracks']\n",
        "    else:\n",
        "        return []\n",
        "\n",
        "playlist_duration = 0\n",
        "\n",
        "# Create batches of up to 50 track IDs\n",
        "batch_size = 50\n",
        "for i in range(0, len(tracks), batch_size):\n",
        "    batch = tracks[i:i+batch_size]\n",
        "    track_data = fetch_tracks_data(batch)\n",
        "    for track in track_data:\n",
        "        if track:  # Ensure the track data is not None\n",
        "            playlist_duration += track.get('duration_ms', 0)\n",
        "\n",
        "\n"
      ],
      "metadata": {
        "id": "bUoyLBwSff5A"
      },
      "execution_count": null,
      "outputs": []
    },
    {
      "cell_type": "code",
      "source": [
        "print(playlist_duration)"
      ],
      "metadata": {
        "id": "xUMgYn8Uf7Bg"
      },
      "execution_count": null,
      "outputs": []
    },
    {
      "cell_type": "markdown",
      "source": [
        "## Release date grouping\n"
      ],
      "metadata": {
        "id": "GGZY86N_c6hh"
      }
    },
    {
      "cell_type": "code",
      "source": [
        "# Initialize a defaultdict to count albums per decade\n",
        "decade_counts = defaultdict(int)\n",
        "\n",
        "for details in albums:\n",
        "    # Extract year from the release_date\n",
        "    date = pd.to_datetime(details['release'])\n",
        "\n",
        "    # Convert year to its corresponding decade\n",
        "    year = date.year\n",
        "    decade = (year // 10) * 10\n",
        "\n",
        "    # Count albums per decade\n",
        "    decade_counts[decade] += len(details['tracks'])\n",
        "\n",
        "sorted_counts = sorted(decade_counts.items())\n",
        "\n",
        "print(dict(sorted_counts));"
      ],
      "metadata": {
        "id": "xml6UdKhiKtq"
      },
      "execution_count": null,
      "outputs": []
    },
    {
      "cell_type": "markdown",
      "source": [
        "# Export resulting data"
      ],
      "metadata": {
        "id": "i0jaEoC0dMOG"
      }
    },
    {
      "cell_type": "code",
      "source": [
        "# Constructing the data structure\n",
        "dataResult = {\n",
        "    \"update_time\": int(time.time()),\n",
        "    \"stats\": {\n",
        "        \"albums\": len(albums),\n",
        "        \"tracks\": len(tracks),\n",
        "        \"artists\": len(artists_stats),\n",
        "        \"duration\": playlist_duration/60000\n",
        "    },\n",
        "\n",
        "    \"genres\": {\n",
        "        \"general\": dict(genre_track_count.most_common(10)), #dict(general_genre_counts),\n",
        "        \"detailed\": dict(unmatched_genre_counts.most_common(5))\n",
        "    },\n",
        "\n",
        "    \"features\": dict(features_avg),\n",
        "    \"artists\": dict(favorite_artists),\n",
        "    \"decades\": dict(sorted_counts)\n",
        "\n",
        "}"
      ],
      "metadata": {
        "id": "B9Cma44djTQN"
      },
      "execution_count": null,
      "outputs": []
    },
    {
      "cell_type": "code",
      "source": [
        "with open(\"src/assets/analysis/export-spotify-analysis.json\", \"w\") as outfile:\n",
        "    json.dump(dataResult, outfile)"
      ],
      "metadata": {
        "id": "toKXTFAWB_NZ"
      },
      "execution_count": null,
      "outputs": []
    }
  ]
}